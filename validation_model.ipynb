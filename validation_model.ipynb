{
 "cells": [
  {
   "cell_type": "code",
   "execution_count": 16,
   "metadata": {},
   "outputs": [],
   "source": [
    "import numpy as np\n",
    "import keras\n",
    "from keras.models import Sequential\n",
    "from keras.layers import Dense, Activation, Flatten, Conv2D, Dropout, MaxPool2D\n",
    "from keras.preprocessing.image import ImageDataGenerator\n",
    "import tensorflow as tf\n",
    "from keras.callbacks import ModelCheckpoint\n",
    "from tensorflow.keras.layers import BatchNormalization\n",
    "# data_dir='E:\\ECG detection Example\\Data_Pre'\n",
    "# data=tf.keras.utils.image_dataset_from_directory(data_dir)\n",
    "# class_names = data.class_names\n",
    "# class_names\n"
   ]
  },
  {
   "cell_type": "code",
   "execution_count": 17,
   "metadata": {},
   "outputs": [
    {
     "name": "stdout",
     "output_type": "stream",
     "text": [
      "Model: \"sequential\"\n",
      "_________________________________________________________________\n",
      " Layer (type)                Output Shape              Param #   \n",
      "=================================================================\n",
      " conv2d (Conv2D)             (None, 128, 128, 64)      3136      \n",
      "                                                                 \n",
      " batch_normalization (BatchN  (None, 128, 128, 64)     256       \n",
      " ormalization)                                                   \n",
      "                                                                 \n",
      " conv2d_1 (Conv2D)           (None, 128, 128, 64)      65600     \n",
      "                                                                 \n",
      " max_pooling2d (MaxPooling2D  (None, 64, 64, 64)       0         \n",
      " )                                                               \n",
      "                                                                 \n",
      " dropout (Dropout)           (None, 64, 64, 64)        0         \n",
      "                                                                 \n",
      " conv2d_2 (Conv2D)           (None, 64, 64, 128)       131200    \n",
      "                                                                 \n",
      " conv2d_3 (Conv2D)           (None, 64, 64, 128)       262272    \n",
      "                                                                 \n",
      " max_pooling2d_1 (MaxPooling  (None, 32, 32, 128)      0         \n",
      " 2D)                                                             \n",
      "                                                                 \n",
      " dropout_1 (Dropout)         (None, 32, 32, 128)       0         \n",
      "                                                                 \n",
      " conv2d_4 (Conv2D)           (None, 32, 32, 256)       524544    \n",
      "                                                                 \n",
      " conv2d_5 (Conv2D)           (None, 32, 32, 256)       1048832   \n",
      "                                                                 \n",
      " max_pooling2d_2 (MaxPooling  (None, 16, 16, 256)      0         \n",
      " 2D)                                                             \n",
      "                                                                 \n",
      " dropout_2 (Dropout)         (None, 16, 16, 256)       0         \n",
      "                                                                 \n",
      " flatten (Flatten)           (None, 65536)             0         \n",
      "                                                                 \n",
      " dense (Dense)               (None, 512)               33554944  \n",
      "                                                                 \n",
      " dropout_3 (Dropout)         (None, 512)               0         \n",
      "                                                                 \n",
      " dense_1 (Dense)             (None, 2)                 1026      \n",
      "                                                                 \n",
      "=================================================================\n",
      "Total params: 35,591,810\n",
      "Trainable params: 35,591,682\n",
      "Non-trainable params: 128\n",
      "_________________________________________________________________\n",
      "None\n"
     ]
    }
   ],
   "source": [
    "from keras.layers import Conv2D, BatchNormalization, Flatten, Dense, Dropout, MaxPooling2D\n",
    "from keras import regularizers\n",
    "_rotate_range = 180\n",
    "_size = (128, 128)\n",
    "_batch_size = 32\n",
    "_filters = (4, 4)\n",
    "_epochs = 30\n",
    "_regularizers = 0.0001\n",
    "_probability_to_change = 0.30\n",
    "\n",
    "def create_model():\n",
    "        model = Sequential()\n",
    "\n",
    "        model.add(Conv2D(64, _filters, input_shape=(_size[0], _size[1], 3), padding='same',\n",
    "                        kernel_regularizer=regularizers.l1_l2(_regularizers, _regularizers), activation='relu'))\n",
    "        model.add(BatchNormalization())\n",
    "        model.add(Conv2D(64, _filters, kernel_regularizer=regularizers.l2(_regularizers), \n",
    "                padding='same',activation='relu'))\n",
    "        model.add(MaxPooling2D())\n",
    "        model.add(Dropout(0.20))\n",
    "\n",
    "        model.add(Conv2D(128, _filters, kernel_regularizer=regularizers.l2(_regularizers), \n",
    "                padding='same',activation='relu'))\n",
    "        model.add(Conv2D(128, _filters, kernel_regularizer=regularizers.l2(_regularizers),\n",
    "                padding='same',activation='relu'))\n",
    "        model.add(MaxPooling2D())\n",
    "        model.add(Dropout(0.20))\n",
    "\n",
    "        model.add(Conv2D(256, _filters, kernel_regularizer=regularizers.l2(_regularizers), \n",
    "                padding='same',activation='relu'))\n",
    "        model.add(Conv2D(256, _filters, kernel_regularizer=regularizers.l2(_regularizers), \n",
    "                padding='same',activation='relu'))\n",
    "        model.add(MaxPooling2D())\n",
    "        model.add(Dropout(0.20))\n",
    "\n",
    "        model.add(Flatten())\n",
    "        model.add(Dense(512, kernel_regularizer=regularizers.l2(_regularizers), activation='relu'))\n",
    "        model.add(Dropout(0.5))\n",
    "        model.add(Dense(2, activation='softmax'))\n",
    "\n",
    "        model.compile(loss='categorical_crossentropy', optimizer='adam', metrics=['accuracy'])\n",
    "        \n",
    "        return model\n",
    "model=create_model()\n",
    "print(model.summary())"
   ]
  },
  {
   "cell_type": "code",
   "execution_count": 18,
   "metadata": {},
   "outputs": [
    {
     "name": "stdout",
     "output_type": "stream",
     "text": [
      "Found 2400 images belonging to 2 classes.\n",
      "Found 800 images belonging to 2 classes.\n",
      "Epoch 1/10\n",
      "75/75 [==============================] - ETA: 0s - loss: 1.5510 - accuracy: 0.7383WARNING:tensorflow:Early stopping conditioned on metric `val_acc` which is not available. Available metrics are: loss,accuracy,val_loss,val_accuracy\n",
      "75/75 [==============================] - 666s 9s/step - loss: 1.5510 - accuracy: 0.7383 - val_loss: 1.2374 - val_accuracy: 0.5000\n",
      "Epoch 2/10\n",
      "75/75 [==============================] - ETA: 0s - loss: 0.3078 - accuracy: 0.9633WARNING:tensorflow:Early stopping conditioned on metric `val_acc` which is not available. Available metrics are: loss,accuracy,val_loss,val_accuracy\n",
      "75/75 [==============================] - 666s 9s/step - loss: 0.3078 - accuracy: 0.9633 - val_loss: 0.9036 - val_accuracy: 0.4975\n",
      "Epoch 3/10\n",
      "75/75 [==============================] - ETA: 0s - loss: 0.2294 - accuracy: 0.9867WARNING:tensorflow:Early stopping conditioned on metric `val_acc` which is not available. Available metrics are: loss,accuracy,val_loss,val_accuracy\n",
      "75/75 [==============================] - 651s 9s/step - loss: 0.2294 - accuracy: 0.9867 - val_loss: 0.4955 - val_accuracy: 0.8338\n",
      "Epoch 4/10\n",
      "75/75 [==============================] - ETA: 0s - loss: 0.2051 - accuracy: 0.9871WARNING:tensorflow:Early stopping conditioned on metric `val_acc` which is not available. Available metrics are: loss,accuracy,val_loss,val_accuracy\n",
      "75/75 [==============================] - 633s 8s/step - loss: 0.2051 - accuracy: 0.9871 - val_loss: 0.2942 - val_accuracy: 0.9775\n",
      "Epoch 5/10\n",
      "75/75 [==============================] - ETA: 0s - loss: 0.1851 - accuracy: 0.9871WARNING:tensorflow:Early stopping conditioned on metric `val_acc` which is not available. Available metrics are: loss,accuracy,val_loss,val_accuracy\n",
      "75/75 [==============================] - 660s 9s/step - loss: 0.1851 - accuracy: 0.9871 - val_loss: 0.2802 - val_accuracy: 0.9737\n",
      "Epoch 6/10\n",
      "75/75 [==============================] - ETA: 0s - loss: 0.1734 - accuracy: 0.9871WARNING:tensorflow:Early stopping conditioned on metric `val_acc` which is not available. Available metrics are: loss,accuracy,val_loss,val_accuracy\n",
      "75/75 [==============================] - 644s 9s/step - loss: 0.1734 - accuracy: 0.9871 - val_loss: 0.2261 - val_accuracy: 0.9800\n",
      "Epoch 7/10\n",
      "75/75 [==============================] - ETA: 0s - loss: 0.1524 - accuracy: 0.9925WARNING:tensorflow:Early stopping conditioned on metric `val_acc` which is not available. Available metrics are: loss,accuracy,val_loss,val_accuracy\n",
      "75/75 [==============================] - 621s 8s/step - loss: 0.1524 - accuracy: 0.9925 - val_loss: 0.3792 - val_accuracy: 0.9150\n",
      "Epoch 8/10\n",
      "75/75 [==============================] - ETA: 0s - loss: 0.1461 - accuracy: 0.9917WARNING:tensorflow:Early stopping conditioned on metric `val_acc` which is not available. Available metrics are: loss,accuracy,val_loss,val_accuracy\n",
      "75/75 [==============================] - 594s 8s/step - loss: 0.1461 - accuracy: 0.9917 - val_loss: 0.4868 - val_accuracy: 0.8400\n",
      "Epoch 9/10\n",
      "75/75 [==============================] - ETA: 0s - loss: 0.1379 - accuracy: 0.9921WARNING:tensorflow:Early stopping conditioned on metric `val_acc` which is not available. Available metrics are: loss,accuracy,val_loss,val_accuracy\n",
      "75/75 [==============================] - 618s 8s/step - loss: 0.1379 - accuracy: 0.9921 - val_loss: 0.2388 - val_accuracy: 0.9800\n",
      "Epoch 10/10\n",
      "75/75 [==============================] - ETA: 0s - loss: 0.1307 - accuracy: 0.9946WARNING:tensorflow:Early stopping conditioned on metric `val_acc` which is not available. Available metrics are: loss,accuracy,val_loss,val_accuracy\n",
      "75/75 [==============================] - 604s 8s/step - loss: 0.1307 - accuracy: 0.9946 - val_loss: 0.2544 - val_accuracy: 0.9837\n"
     ]
    }
   ],
   "source": [
    "import warnings\n",
    "warnings.filterwarnings('ignore')\n",
    "from keras.callbacks import EarlyStopping\n",
    "\n",
    "IMAGE_SIZE = [128, 128]\n",
    "batch_size=32\n",
    "model_set=[]\n",
    "\n",
    "earlyStopping = EarlyStopping(monitor='val_acc', patience=10, verbose=1, mode='max')\n",
    "\n",
    "train='E:/ECG detection Example/DataTrain/Data2/Train'\n",
    "validation='E:/ECG detection Example/DataTrain/Data2/Validation'\n",
    "\n",
    "filepath = \"E:\\ECG detection Example\\Model\"\n",
    "checkpoint = ModelCheckpoint(filepath,\n",
    "                            monitor='val_acc',\n",
    "                            verbose=1,\n",
    "                            save_best_only=True,\n",
    "                            mode='max')\n",
    "callbacks_list = [checkpoint]\n",
    "\n",
    "gen = ImageDataGenerator()\n",
    "train_generator = gen.flow_from_directory(\n",
    "train,\n",
    "target_size=IMAGE_SIZE,\n",
    "shuffle=True,\n",
    "batch_size=batch_size)\n",
    "\n",
    "valid_generator = gen.flow_from_directory(\n",
    "validation,\n",
    "target_size=IMAGE_SIZE,\n",
    "shuffle=True,\n",
    "batch_size=batch_size)\n",
    "\n",
    "\n",
    "# print(model.summary())\n",
    "model=create_model()\n",
    "history=model.fit(\n",
    "    train_generator,\n",
    "    validation_data=valid_generator,\n",
    "    epochs=10,\n",
    "    steps_per_epoch=2400//batch_size,\n",
    "    validation_steps=800//batch_size,\n",
    "    # callbacks=callbacks_list)\n",
    "    callbacks=[earlyStopping],)\n",
    "\n",
    "model.save(\"E:\\ECG detection Example\\Model\\model5.hdf5\")\n",
    "\n"
   ]
  },
  {
   "cell_type": "code",
   "execution_count": null,
   "metadata": {},
   "outputs": [],
   "source": [
    "loss=[1.0878,0.2957,0.2357,0.1922,0.1689,0.1591,0.1572,0.1334,0.1278,0.1254]\n",
    "accuracy=[0.7063, 0.9621,0.9779,0.9842,0.9875,0.9887,0.9858,0.9908,0.9921,0.9946]\n",
    "\n",
    "val_loss=[0.8714,0.2851,0.1918,0.1912,0.1816,0.1696,0.861,0.5800,0.7096,0.1155]\n",
    "val_accuracy=[ 0.8675,0.9700,0.9900,0.9850,0.9737,0.9887,0.8975,0.7362,0.6050,0.9987]"
   ]
  },
  {
   "cell_type": "code",
   "execution_count": 19,
   "metadata": {},
   "outputs": [
    {
     "data": {
      "image/png": "[encoded data removed]",
      "text/plain": [
       "<Figure size 432x288 with 1 Axes>"
      ]
     },
     "metadata": {
      "needs_background": "light"
     },
     "output_type": "display_data"
    },
    {
     "data": {
      "image/png": "[encoded data removed]",
      "text/plain": [
       "<Figure size 432x288 with 1 Axes>"
      ]
     },
     "metadata": {
      "needs_background": "light"
     },
     "output_type": "display_data"
    }
   ],
   "source": [
    "\n",
    "import matplotlib.pyplot as plt\n",
    "\n",
    "# summarize history for accuracy\n",
    "plt.plot(history.history['accuracy'])\n",
    "plt.plot(history.history['val_accuracy'])\n",
    "\n",
    "plt.title('Model accuracy')\n",
    "plt.ylabel('Accuracy')\n",
    "plt.xlabel('Epoch')\n",
    "plt.legend(['Train', 'Validation'], loc='upper left')\n",
    "plt.show()\n",
    "# summarize history for loss\n",
    "plt.plot(history.history['loss'])\n",
    "plt.plot(history.history['val_loss'])\n",
    "\n",
    "plt.title('Model loss')\n",
    "plt.ylabel('Loss')\n",
    "plt.xlabel('Epoch')\n",
    "plt.legend(['Train', 'Validation'], loc='upper left')\n",
    "plt.show()"
   ]
  },
  {
   "cell_type": "code",
   "execution_count": 2,
   "metadata": {},
   "outputs": [],
   "source": [
    "from sklearn.metrics import accuracy_score, f1_score, precision_score, confusion_matrix\n",
    "def my_metrics(y_true, y_pred):\n",
    "    accuracy=accuracy_score(y_true, y_pred)\n",
    "    precision=round(precision_score(y_true, y_pred,average='weighted'),6)\n",
    "    f1Score=round(f1_score(y_true, y_pred, average='weighted'),6)\n",
    "    print(\"Accuracy  : {} %\".format(accuracy*100))\n",
    "    print(\"Precision : {}\".format(precision))\n",
    "    print(\"f1Score : {}\".format(f1Score))\n",
    "    cm=confusion_matrix(y_true, y_pred)\n",
    "    print(cm)\n",
    "    return accuracy, precision, f1Score"
   ]
  },
  {
   "cell_type": "code",
   "execution_count": 4,
   "metadata": {},
   "outputs": [
    {
     "name": "stdout",
     "output_type": "stream",
     "text": [
      "***Performance on Validation data***\n",
      "Accuracy  : 96.75 %\n",
      "Precision : 0.968918\n",
      "f1Score : 0.967475\n",
      "[[376  24]\n",
      " [  2 398]]\n"
     ]
    }
   ],
   "source": [
    "import warnings\n",
    "warnings.filterwarnings('ignore')\n",
    "from glob import glob\n",
    "from collections import Counter\n",
    "from keras.models import load_model\n",
    "import numpy as np\n",
    "import cv2\n",
    "\n",
    "\n",
    "#from csv_to_image import directory\n",
    "directory1=\"E:/ECG detection Example/DataTrain/Data2/Test/AFIB\"\n",
    "directory2=\"E:/ECG detection Example/DataTrain/Data2/Test/NSR\"\n",
    "\n",
    "AFIB = glob(directory1 + '/*.png')\n",
    "NSR = glob(directory2 + '/*.png')\n",
    "arr=[AFIB,NSR]\n",
    "model = load_model('E:/ECG detection Example/Model/model4.hdf5')\n",
    "y_true=np.concatenate((np.zeros((1,2*200)),np.ones((1,2*200))),axis=1)\n",
    "\n",
    "\n",
    "yPredictions = []\n",
    "for images in arr[:]:\n",
    "    \n",
    "    for i in images:\n",
    "        image = cv2.imread(i)\n",
    "        pred = model.predict(image.reshape((1, 128, 128, 3)))\n",
    "        \n",
    "        y_classes = pred.argmax(axis=-1)\n",
    "        yPredictions.append(y_classes[0])   \n",
    "\n",
    "print(\"***Performance on Validation data***\")    \n",
    "valAcc, valPrec, valFScore = my_metrics(y_true[0], yPredictions)"
   ]
  },
  {
   "cell_type": "code",
   "execution_count": 3,
   "metadata": {},
   "outputs": [
    {
     "name": "stdout",
     "output_type": "stream",
     "text": [
      "***Performance on Validation data***\n",
      "Accuracy  : 99.75 %\n",
      "Precision : 0.9975\n",
      "f1Score : 0.9975\n",
      "[[399   1]\n",
      " [  1 399]]\n"
     ]
    }
   ],
   "source": [
    "print(\"***Performance on Validation data***\")    \n",
    "valAcc, valPrec, valFScore = my_metrics(y_true[0], yPredictions)"
   ]
  },
  {
   "cell_type": "markdown",
   "metadata": {},
   "source": [
    "model2: 165, 110\n",
    "model3: 198, 112\n",
    "model4: 162, 166"
   ]
  }
 ],
 "metadata": {
  "interpreter": {
   "hash": "11938c6bc6919ae2720b4d5011047913343b08a43b18698fd82dedb0d4417594"
  },
  "kernelspec": {
   "display_name": "Python 3.9.1 64-bit",
   "language": "python",
   "name": "python3"
  },
  "language_info": {
   "codemirror_mode": {
    "name": "ipython",
    "version": 3
   },
   "file_extension": ".py",
   "mimetype": "text/x-python",
   "name": "python",
   "nbconvert_exporter": "python",
   "pygments_lexer": "ipython3",
   "version": "3.9.1"
  },
  "orig_nbformat": 4
 },
 "nbformat": 4,
 "nbformat_minor": 2
}
